{
 "cells": [
  {
   "attachments": {},
   "cell_type": "markdown",
   "metadata": {},
   "source": [
    "<h1 style=\"text-align: center\">\n",
    "<div style=\"color: #DD3403; font-size: 60%\">Data Science DISCOVERY MicroProject</div>\n",
    "<span style=\"\">MicroProject #13: Building a Scene Recognition Model form Video Frames</span>\n",
    "<div style=\"font-size: 60%;\"><a href=\"https://discovery.cs.illinois.edu/microproject/video-frame-scene-recognition-model/\">https://discovery.cs.illinois.edu/microproject/video-frame-scene-recognition-model/</a></div>\n",
    "</h1>\n",
    "\n",
    "<hr style=\"color: #DD3403;\">"
   ]
  },
  {
   "attachments": {},
   "cell_type": "markdown",
   "metadata": {},
   "source": [
    "## Data Source: Frames of a Video\n",
    "\n",
    "Visual images are an important part of all media and Data Scientists are often using images as data sources.  In this MicroProject, you will create a simple model to detect the amount of time spent in two different \"scenes\" we used when creating office-hour style videos for Data Science DISCOVERY.\n",
    "\n",
    "In doing this, you will be building a **simple artificial intelligence (AI) algorithm** that will be able to predict the classification of unknown future data.  Let's nerd out! 🎉"
   ]
  },
  {
   "cell_type": "markdown",
   "metadata": {},
   "source": [
    "<hr style=\"color: #DD3403;\">"
   ]
  },
  {
   "attachments": {},
   "cell_type": "markdown",
   "metadata": {},
   "source": [
    "## Part 1: Loading a Video Frame\n",
    "\n",
    "For this MicroProject, we already did a screen capture from the DISCOVERY video [*\"Outliers Impact on Correlation (m6-02b)\"*](https://www.youtube.com/watch?v=bd6hQ2UcIJc) that is used as part of our [DISCOVERY lecture covering Correlation](https://discovery.cs.illinois.edu/learn/Towards-Machine-Learning/Correlation/).  We captured one video frame every second and stored it as an image, and those files are available fo you in the `frames` directory of this MicroProejct.\n",
    "\n",
    "To analyze these images, the `skimage` library is commonly used to load image data into Python.  Specifically the `skimage.io.imread(filename)` will read a filename and return the pixel color for every pixel in the image.\n",
    "\n",
    "To use the `imread` function, you will need to either do one of the following:\n",
    "\n",
    "1. Either import all of `skimage` by using the import line `import skimage`.  After importing all of `skimage`, you will call the function using its fully qualified name: `skimage.io.imread(filename)`.\n",
    "\n",
    "**OR**\n",
    "\n",
    "2. Import only the `imread` function by using the import line `from skimage.io import imread`.  After importing only `imread`, you will call the function directly: `imread(filename)`\n",
    "\n",
    "### Part 1.1: Read Pixel Data for `frames/frame_0001.jpg`\n",
    "\n",
    "In the following cell, store the pixel color data from the file named `frames/frame_0001.jpg` in the variable `pixels` by using the `imread` function:\n"
   ]
  },
  {
   "cell_type": "code",
   "execution_count": 3,
   "metadata": {},
   "outputs": [],
   "source": [
    "from skimage.io import imread\n",
    "pixels = imread(\"frames/frame_0001.jpg\")"
   ]
  },
  {
   "cell_type": "code",
   "execution_count": 4,
   "metadata": {},
   "outputs": [
    {
     "name": "stdout",
     "output_type": "stream",
     "text": [
      "🎉 All Tests Passed! 🎉\n"
     ]
    }
   ],
   "source": [
    "### TEST CASE for Part 1: Loading a Video Frame\n",
    "tada = \"\\N{PARTY POPPER}\"\n",
    "\n",
    "assert(\"pixels\" in vars()), \"Make sure you store the pixel data in the variable `pixels`.\"\n",
    "assert(pixels.shape == (360, 640, 3)), \"Make sure you are getting the pixel color data from the correct file.\"\n",
    "assert(pixels[0][0][0] == 91), \"Make sure you are getting the pixel color data from the correct file.\"\n",
    "\n",
    "print(f\"{tada} All Tests Passed! {tada}\")"
   ]
  },
  {
   "cell_type": "markdown",
   "metadata": {},
   "source": [
    "Here's the image you loaded into `pixels` for reference as we work on the next section:\n",
    "\n",
    "![frame_0001](frames/frame_0001.jpg \"frame_0001\")\n"
   ]
  },
  {
   "attachments": {},
   "cell_type": "markdown",
   "metadata": {},
   "source": [
    "<hr style=\"color: #DD3403;\">"
   ]
  },
  {
   "attachments": {},
   "cell_type": "markdown",
   "metadata": {},
   "source": [
    "## Part 2: Finding Average Image Colors\n",
    "\n",
    "The **shape** of your data is the `rows` by `columns` by `color values` as 3-dimensional list.  Here's a formatted view of your `pixels` data:\n",
    "\n",
    "```py\n",
    "[\n",
    "  [ [91, 83, 80], [91, 83, 80], [91, 83, 80] ], ... ],   # Row #1\n",
    "  [ [91, 83, 80], [91, 83, 80], [91, 83, 80] ], ... ],   # Row #2\n",
    "  ...                                                    # ...\n",
    "]\n",
    "```\n",
    "\n",
    "The current shape of `pixels` is 360 rows by 640 columns by 3 colors.  Each of the three colors represent the three color channels on a screen: red, green, and blue.\n",
    "\n",
    "Using `pixel.mean()`, we find the average color by grouping **ALL** the color channels (combining blues and reds and greens together).  Try it out:\n"
   ]
  },
  {
   "cell_type": "code",
   "execution_count": 5,
   "metadata": {},
   "outputs": [
    {
     "data": {
      "text/plain": [
       "np.float64(72.18011863425926)"
      ]
     },
     "execution_count": 5,
     "metadata": {},
     "output_type": "execute_result"
    }
   ],
   "source": [
    "pixels.mean()"
   ]
  },
  {
   "attachments": {},
   "cell_type": "markdown",
   "metadata": {},
   "source": [
    "We can also find the average of each color channel instead of grouping them all together.  The `pixels.reshape(-1, 3).mean(axis=0)` function will return the mean of each color channel across all pixels.  Check out the new mean output:"
   ]
  },
  {
   "cell_type": "code",
   "execution_count": 6,
   "metadata": {},
   "outputs": [
    {
     "data": {
      "text/plain": [
       "array([[ 91,  83,  80],\n",
       "       [ 91,  83,  80],\n",
       "       [ 91,  83,  80],\n",
       "       ...,\n",
       "       [162, 131, 110],\n",
       "       [162, 131, 110],\n",
       "       [162, 131, 110]], shape=(230400, 3), dtype=uint8)"
      ]
     },
     "execution_count": 6,
     "metadata": {},
     "output_type": "execute_result"
    }
   ],
   "source": [
    "# pixels.reshape(-1, 3) is being used to arrange the `pixels` data into 1 column\n",
    "# while still preserving the original color channel data for each pixel, which is\n",
    "# necessary to get the mean for each color channel:\n",
    "pixels.reshape(-1, 3)"
   ]
  },
  {
   "cell_type": "markdown",
   "metadata": {},
   "source": [
    "We can combine it with `.mean(axis=0)` to find the average color of the three color channels:"
   ]
  },
  {
   "cell_type": "code",
   "execution_count": 9,
   "metadata": {},
   "outputs": [
    {
     "data": {
      "text/plain": [
       "array([88.65917535, 67.45620226, 60.4249783 ])"
      ]
     },
     "execution_count": 9,
     "metadata": {},
     "output_type": "execute_result"
    }
   ],
   "source": [
    "pixels.reshape(-1, 3).mean(axis=0)"
   ]
  },
  {
   "cell_type": "markdown",
   "metadata": {},
   "source": [
    "Finally, when a `list` or `array` is returned, we can spread the values into different variables where each variable takes one value from the list.  For example:\n",
    "\n",
    "> ```py\n",
    "> # Spreads the [2, 4], so x=2, and y=4:\n",
    "> x, y = [2, 4]\n",
    "> ```\n",
    "\n",
    "We can spread any size list into as many variables as elements in the list:\n",
    "\n",
    "> ```py\n",
    "> # Spreads a list of five elements into five variables:\n",
    "> a, b, c, d, e = [20, 30, 40, 50, 60]\n",
    "> # a = 20; b = 30; c = 40; d = 50; and e = 60.\n",
    "> ```\n",
    "\n",
    "This can be helpful for the average pixel colors of an image:\n",
    "\n",
    "> ```py\n",
    "> # Spreads the list of three color channels into r, g, and, b:\n",
    "> r, g, b = pixels.reshape(-1, 3).mean(axis=0)\n",
    "> ```"
   ]
  },
  {
   "attachments": {},
   "cell_type": "markdown",
   "metadata": {},
   "source": [
    "### Part 2.1: Finding the Average Color of One Image\n",
    "\n",
    "Store `pixels`'s average red value in `r`, average green value in `g`, and average blue value in `b`:"
   ]
  },
  {
   "cell_type": "code",
   "execution_count": 10,
   "metadata": {},
   "outputs": [],
   "source": [
    "r, g, b = pixels.reshape(-1, 3).mean(axis=0)"
   ]
  },
  {
   "cell_type": "code",
   "execution_count": 13,
   "metadata": {},
   "outputs": [
    {
     "name": "stdout",
     "output_type": "stream",
     "text": [
      "🎉 All Tests Passed! 🎉\n",
      "- The image's average red color channel is 89 / 255\n",
      "- The image's average green color channel is 67 / 255\n",
      "- The image's average blue color channel is 60 / 255\n"
     ]
    }
   ],
   "source": [
    "### TEST CASE for Part 2.1: Finding the Average Color of One Image\n",
    "tada = \"\\N{PARTY POPPER}\"\n",
    "\n",
    "import math\n",
    "assert(\"r\" in vars()), \"The average red value should be stored in the variable `r`.\"\n",
    "assert(\"g\" in vars()), \"The average green value should be stored in the variable `g`.\"\n",
    "assert(\"b\" in vars()), \"The average blue value should be stored in the variable `b`.\"\n",
    "assert(math.isclose(r, 88.65917534722222, abs_tol=1)), f\"Your average red value is incorrect (r={r}).\"\n",
    "assert(math.isclose(g, 67.45620225694445, abs_tol=1)), f\"Your average green value is incorrect (g={g}).\"\n",
    "assert(math.isclose(b, 60.42497829861111, abs_tol=1)), f\"Your average blue value is incorrect (b={b}).\"\n",
    "\n",
    "print(f\"{tada} All Tests Passed! {tada}\")\n",
    "print(f\"- The image's average red color channel is {round(r)} / 255\")\n",
    "print(f\"- The image's average green color channel is {round(g)} / 255\")\n",
    "print(f\"- The image's average blue color channel is {round(b)} / 255\")\n"
   ]
  },
  {
   "attachments": {},
   "cell_type": "markdown",
   "metadata": {},
   "source": [
    "### Part 2.2: Finding the Average Color of All Images\n",
    "\n",
    "The following code loops through every file in the `frames` directory -- this will include `frame_0001.jpg` (like you analyzed already) and also `frame_0002.jpg`, `frame_0003.jpg`, and all 300+ frames!\n",
    "\n",
    "Create a DataFrame named `df` where each row is one frame with the following four columns:\n",
    "- `frame`, the filename of the frame\n",
    "- `r`, the average red color of the frame\n",
    "- `g`, the average green color of the frame\n",
    "- `b`, the average blue color of the frame\n",
    "\n",
    "The structure of the code should be nearly identical to writing a simulation.  Instead of creating random variables for your real world data, your real world data will be the filename, and the average color values. \n",
    "\n",
    "- See: https://discovery.cs.illinois.edu/learn/Simulation-and-Distributions/Simple-Simulations-in-Python/\n",
    "\n",
    "*(Hint: Start at the very beginning of this MicroProject and observe the steps taken to get the average colors of `frame_0001.jpg`.)*"
   ]
  },
  {
   "cell_type": "code",
   "execution_count": 16,
   "metadata": {},
   "outputs": [
    {
     "data": {
      "text/html": [
       "<div>\n",
       "<style scoped>\n",
       "    .dataframe tbody tr th:only-of-type {\n",
       "        vertical-align: middle;\n",
       "    }\n",
       "\n",
       "    .dataframe tbody tr th {\n",
       "        vertical-align: top;\n",
       "    }\n",
       "\n",
       "    .dataframe thead th {\n",
       "        text-align: right;\n",
       "    }\n",
       "</style>\n",
       "<table border=\"1\" class=\"dataframe\">\n",
       "  <thead>\n",
       "    <tr style=\"text-align: right;\">\n",
       "      <th></th>\n",
       "      <th>frame</th>\n",
       "      <th>r</th>\n",
       "      <th>g</th>\n",
       "      <th>b</th>\n",
       "    </tr>\n",
       "  </thead>\n",
       "  <tbody>\n",
       "    <tr>\n",
       "      <th>0</th>\n",
       "      <td>frames\\frame_0001.jpg</td>\n",
       "      <td>88.659175</td>\n",
       "      <td>67.456202</td>\n",
       "      <td>60.424978</td>\n",
       "    </tr>\n",
       "    <tr>\n",
       "      <th>1</th>\n",
       "      <td>frames\\frame_0002.jpg</td>\n",
       "      <td>88.697865</td>\n",
       "      <td>67.453529</td>\n",
       "      <td>60.475660</td>\n",
       "    </tr>\n",
       "    <tr>\n",
       "      <th>2</th>\n",
       "      <td>frames\\frame_0003.jpg</td>\n",
       "      <td>88.028351</td>\n",
       "      <td>66.913845</td>\n",
       "      <td>60.064592</td>\n",
       "    </tr>\n",
       "    <tr>\n",
       "      <th>3</th>\n",
       "      <td>frames\\frame_0004.jpg</td>\n",
       "      <td>88.825629</td>\n",
       "      <td>67.340347</td>\n",
       "      <td>60.491645</td>\n",
       "    </tr>\n",
       "    <tr>\n",
       "      <th>4</th>\n",
       "      <td>frames\\frame_0005.jpg</td>\n",
       "      <td>88.211714</td>\n",
       "      <td>66.979661</td>\n",
       "      <td>59.983173</td>\n",
       "    </tr>\n",
       "    <tr>\n",
       "      <th>...</th>\n",
       "      <td>...</td>\n",
       "      <td>...</td>\n",
       "      <td>...</td>\n",
       "      <td>...</td>\n",
       "    </tr>\n",
       "    <tr>\n",
       "      <th>325</th>\n",
       "      <td>frames\\frame_0326.jpg</td>\n",
       "      <td>7.470391</td>\n",
       "      <td>7.473355</td>\n",
       "      <td>7.479188</td>\n",
       "    </tr>\n",
       "    <tr>\n",
       "      <th>326</th>\n",
       "      <td>frames\\frame_0327.jpg</td>\n",
       "      <td>7.469779</td>\n",
       "      <td>7.472743</td>\n",
       "      <td>7.478576</td>\n",
       "    </tr>\n",
       "    <tr>\n",
       "      <th>327</th>\n",
       "      <td>frames\\frame_0328.jpg</td>\n",
       "      <td>7.480234</td>\n",
       "      <td>7.481519</td>\n",
       "      <td>7.487826</td>\n",
       "    </tr>\n",
       "    <tr>\n",
       "      <th>328</th>\n",
       "      <td>frames\\frame_0329.jpg</td>\n",
       "      <td>7.480004</td>\n",
       "      <td>7.481289</td>\n",
       "      <td>7.487595</td>\n",
       "    </tr>\n",
       "    <tr>\n",
       "      <th>329</th>\n",
       "      <td>frames\\frame_0330.jpg</td>\n",
       "      <td>4.657478</td>\n",
       "      <td>4.658776</td>\n",
       "      <td>4.665082</td>\n",
       "    </tr>\n",
       "  </tbody>\n",
       "</table>\n",
       "<p>330 rows × 4 columns</p>\n",
       "</div>"
      ],
      "text/plain": [
       "                     frame          r          g          b\n",
       "0    frames\\frame_0001.jpg  88.659175  67.456202  60.424978\n",
       "1    frames\\frame_0002.jpg  88.697865  67.453529  60.475660\n",
       "2    frames\\frame_0003.jpg  88.028351  66.913845  60.064592\n",
       "3    frames\\frame_0004.jpg  88.825629  67.340347  60.491645\n",
       "4    frames\\frame_0005.jpg  88.211714  66.979661  59.983173\n",
       "..                     ...        ...        ...        ...\n",
       "325  frames\\frame_0326.jpg   7.470391   7.473355   7.479188\n",
       "326  frames\\frame_0327.jpg   7.469779   7.472743   7.478576\n",
       "327  frames\\frame_0328.jpg   7.480234   7.481519   7.487826\n",
       "328  frames\\frame_0329.jpg   7.480004   7.481289   7.487595\n",
       "329  frames\\frame_0330.jpg   4.657478   4.658776   4.665082\n",
       "\n",
       "[330 rows x 4 columns]"
      ]
     },
     "execution_count": 16,
     "metadata": {},
     "output_type": "execute_result"
    }
   ],
   "source": [
    "import glob\n",
    "import os\n",
    "import pandas as pd\n",
    "\n",
    "data = []\n",
    "for frameFileName in glob.glob(os.path.join(\"frames\", \"*.jpg\")): \n",
    "  # `frameFileName` contains the filename of the frame (ex: \"frames/frame_0001.jpg\").\n",
    "  # Use `frameFileName` for `imread` to read the frame image data.\n",
    "  pixels = imread(frameFileName)\n",
    "  r, g, b = pixels.reshape(-1, 3).mean(axis=0)\n",
    "  d = {\"frame\" : frameFileName, \"r\": r, \"g\": g, \"b\": b}\n",
    "  data.append(d)\n",
    "\n",
    "\n",
    "df = pd.DataFrame(data)\n",
    "df"
   ]
  },
  {
   "cell_type": "code",
   "execution_count": 15,
   "metadata": {},
   "outputs": [
    {
     "name": "stdout",
     "output_type": "stream",
     "text": [
      "🎉 All Tests Passed! 🎉\n"
     ]
    }
   ],
   "source": [
    "### TEST CASE for Part 2.2: Finding the Average Color of All Images\n",
    "tada = \"\\N{PARTY POPPER}\"\n",
    "\n",
    "import math\n",
    "assert(\"df\" in vars()), \"Make sure your DataFrame is named `df`.\"\n",
    "assert(len(df) == 330), \"Your DataFrame has the incorrect number of rows.\"\n",
    "assert(\"r\" in df), \"Your `df` is missing the `r` column.\"\n",
    "assert(\"g\" in df), \"Your `df` is missing the `g` column.\"\n",
    "assert(\"b\" in df), \"Your `df` is missing the `b` column.\"\n",
    "assert(\"frame\" in df), \"Your `df` is missing the `frame` column.\"\n",
    "assert( abs( df[ df.frame.str.endswith(\"_0001.jpg\") ][\"r\"].sum() - 88 ) < 1 ), \"You have calculated the color averages incorrectly.\"\n",
    "\n",
    "print(f\"{tada} All Tests Passed! {tada}\")"
   ]
  },
  {
   "attachments": {},
   "cell_type": "markdown",
   "metadata": {},
   "source": [
    "<hr style=\"color: #DD3403;\">"
   ]
  },
  {
   "attachments": {},
   "cell_type": "markdown",
   "metadata": {},
   "source": [
    "## Part 3: Create a Simple Classifier\n",
    "\n",
    "In the DISCOVERY lecture videos, there are two primary \"scenes\" in the video:\n",
    "\n",
    "1. **\"Office Hours Studio Scene\"**, where Karle and Wade are talking to each other and the audience\n",
    "\n",
    "2. **\"Notebook Scene\"**, where the notebook is displayed\n",
    "\n",
    "View the `frames` folder on your computer and find **at least three more frames** that are in the \"Office Hours Studio Scene\" and **at least three more frames** that are in the \"Notebook Scene\".  Add the frames you found to the lists below:"
   ]
  },
  {
   "cell_type": "code",
   "execution_count": 17,
   "metadata": {},
   "outputs": [],
   "source": [
    "# List of at least four office hour frames by the filename's frame number:\n",
    "office_hour_frames = [1, 2, 3, 4]\n",
    "\n",
    "# List of at least four notebook frames by the filename's frame number:\n",
    "notebook_frames = [30, 31, 32, 33]"
   ]
  },
  {
   "attachments": {},
   "cell_type": "markdown",
   "metadata": {},
   "source": [
    "### Part 3.1: Observing the Average Colors of Your Frames\n",
    "\n",
    "The following code uses your sample frames to display the average color values for your selected frames:"
   ]
  },
  {
   "cell_type": "code",
   "execution_count": 18,
   "metadata": {},
   "outputs": [
    {
     "name": "stdout",
     "output_type": "stream",
     "text": [
      "== Office Hour Frames ==\n",
      "                   frame          r          g          b\n",
      "0  frames\\frame_0001.jpg  88.659175  67.456202  60.424978\n",
      "1  frames\\frame_0002.jpg  88.697865  67.453529  60.475660\n",
      "2  frames\\frame_0003.jpg  88.028351  66.913845  60.064592\n",
      "3  frames\\frame_0004.jpg  88.825629  67.340347  60.491645\n",
      "\n",
      "== Notebook Frames ==\n",
      "                    frame           r           g           b\n",
      "29  frames\\frame_0030.jpg  237.225595  236.513451  236.777122\n",
      "30  frames\\frame_0031.jpg  237.253437  236.602648  236.892174\n",
      "31  frames\\frame_0032.jpg  237.195208  236.540660  236.820846\n",
      "32  frames\\frame_0033.jpg  237.115829  236.491884  236.751220\n"
     ]
    }
   ],
   "source": [
    "import os\n",
    "\n",
    "print(\"== Office Hour Frames ==\")\n",
    "print( df[ df[\"frame\"].isin( [os.path.join(\"frames\", f\"frame_{frame:04d}.jpg\") for frame in office_hour_frames] ) ] )\n",
    "print()\n",
    "print(\"== Notebook Frames ==\")\n",
    "print( df[ df[\"frame\"].isin( [os.path.join(\"frames\", f\"frame_{frame:04d}.jpg\") for frame in notebook_frames] ) ] )"
   ]
  },
  {
   "attachments": {},
   "cell_type": "markdown",
   "metadata": {},
   "source": [
    "### Part 3.2: Create Your Classifier Function\n",
    "\n",
    "A **classifier function** is a function that takes data and gives a classification for that data.  Create a new function, `classifyFrame` that receives an `r`, `g`, and `b` value.\n",
    "\n",
    "Using information from your frames above, have the function return the string `\"office hour\"` or `\"notebook\"` based on the values of `r`, `g`, and `b`. To do this, try to observe general trends in the color values for both kinds of frames.\n",
    "\n",
    "**IMPORTANT**: Make sure your classifier can handle **ANY** input -- even frames you have not seen before!  For example, you might decide that you will call a frame an `\"office hour\"` frame if the sum of `r`, `g` and `b` is greater than 100 and otherwise it's a `\"notebook\"` scene."
   ]
  },
  {
   "cell_type": "code",
   "execution_count": 25,
   "metadata": {},
   "outputs": [],
   "source": [
    "def classifyFrame(r, g, b):\n",
    "  # Return either \"office hour\" or \"notebook\" based on the values of `r`, `g`, and `b`.\n",
    "  if r < 100 and g < 100 and b < 100:\n",
    "      return 'office hour'\n",
    "  return 'notebook'"
   ]
  },
  {
   "cell_type": "markdown",
   "metadata": {},
   "source": [
    "Here's a function to test your classifier to make sure your function returns a valid result (feel free to edit this).\n",
    "- Right now, focus on making sure your function returns a valid result (either `notebook` or `office hour`)\n",
    "- In the next part, we'll work on making sure it is an accurate classifier."
   ]
  },
  {
   "cell_type": "code",
   "execution_count": 26,
   "metadata": {},
   "outputs": [
    {
     "data": {
      "text/plain": [
       "'office hour'"
      ]
     },
     "execution_count": 26,
     "metadata": {},
     "output_type": "execute_result"
    }
   ],
   "source": [
    "# Testing the `classifyFrame` function:\n",
    "classifyFrame(0, 0, 0)"
   ]
  },
  {
   "cell_type": "code",
   "execution_count": 28,
   "metadata": {},
   "outputs": [
    {
     "name": "stdout",
     "output_type": "stream",
     "text": [
      "🎉 All Tests Passed! 🎉\n"
     ]
    }
   ],
   "source": [
    "### TEST CASE for Part 3.2: Create Your Classifier Function\n",
    "tada = \"\\N{PARTY POPPER}\"\n",
    "\n",
    "r = classifyFrame(0, 0, 0)\n",
    "assert(r == \"notebook\" or r == \"office hour\"), \"Your classifier function is misclassifying frames.\"\n",
    "\n",
    "r = classifyFrame(255, 255, 255)\n",
    "assert(r == \"notebook\" or r == \"office hour\"), \"Your classifier function is misclassifying frames.\"\n",
    "\n",
    "r = classifyFrame(0, 255, 255)\n",
    "assert(r == \"notebook\" or r == \"office hour\"), \"Your classifier function is misclassifying frames.\"\n",
    "\n",
    "r = classifyFrame(255, 255, 0)\n",
    "assert(r == \"notebook\" or r == \"office hour\"), \"Your classifier function is misclassifying frames.\"\n",
    "\n",
    "print(f\"{tada} All Tests Passed! {tada}\")"
   ]
  },
  {
   "attachments": {},
   "cell_type": "markdown",
   "metadata": {},
   "source": [
    "<hr style=\"color: #DD3403;\">"
   ]
  },
  {
   "attachments": {},
   "cell_type": "markdown",
   "metadata": {},
   "source": [
    "## Part 4: Using Your Classifier!\n",
    "\n",
    "Now that we have a classifier, we should run it on every frame and see if your classifier correctly classifies scenes in the video frames.\n",
    "\n",
    "The following cell runs your `classifyFrame` classifier on every frame and adds a new column `scene`. Then, 20 random rows are displayed below.  This output can be checked against the actual images.\n",
    "- You should see a mix of `office hour` and `notebook` values in your **scene** column.\n",
    "- If your classifier is not correct, update your `classifyFrame` function in the previous section and re-run that cell, and then re-run this cell to use your updated `classifyFrame` function."
   ]
  },
  {
   "cell_type": "code",
   "execution_count": 29,
   "metadata": {},
   "outputs": [
    {
     "data": {
      "text/html": [
       "<div>\n",
       "<style scoped>\n",
       "    .dataframe tbody tr th:only-of-type {\n",
       "        vertical-align: middle;\n",
       "    }\n",
       "\n",
       "    .dataframe tbody tr th {\n",
       "        vertical-align: top;\n",
       "    }\n",
       "\n",
       "    .dataframe thead th {\n",
       "        text-align: right;\n",
       "    }\n",
       "</style>\n",
       "<table border=\"1\" class=\"dataframe\">\n",
       "  <thead>\n",
       "    <tr style=\"text-align: right;\">\n",
       "      <th></th>\n",
       "      <th>frame</th>\n",
       "      <th>r</th>\n",
       "      <th>g</th>\n",
       "      <th>b</th>\n",
       "      <th>scene</th>\n",
       "    </tr>\n",
       "  </thead>\n",
       "  <tbody>\n",
       "    <tr>\n",
       "      <th>80</th>\n",
       "      <td>frames\\frame_0081.jpg</td>\n",
       "      <td>230.721385</td>\n",
       "      <td>229.915091</td>\n",
       "      <td>230.483030</td>\n",
       "      <td>notebook</td>\n",
       "    </tr>\n",
       "    <tr>\n",
       "      <th>18</th>\n",
       "      <td>frames\\frame_0019.jpg</td>\n",
       "      <td>88.007270</td>\n",
       "      <td>67.002426</td>\n",
       "      <td>59.679549</td>\n",
       "      <td>office hour</td>\n",
       "    </tr>\n",
       "    <tr>\n",
       "      <th>305</th>\n",
       "      <td>frames\\frame_0306.jpg</td>\n",
       "      <td>89.403867</td>\n",
       "      <td>70.149223</td>\n",
       "      <td>62.839010</td>\n",
       "      <td>office hour</td>\n",
       "    </tr>\n",
       "    <tr>\n",
       "      <th>21</th>\n",
       "      <td>frames\\frame_0022.jpg</td>\n",
       "      <td>87.795200</td>\n",
       "      <td>66.529692</td>\n",
       "      <td>59.443464</td>\n",
       "      <td>office hour</td>\n",
       "    </tr>\n",
       "    <tr>\n",
       "      <th>153</th>\n",
       "      <td>frames\\frame_0154.jpg</td>\n",
       "      <td>230.078668</td>\n",
       "      <td>229.208051</td>\n",
       "      <td>226.855508</td>\n",
       "      <td>notebook</td>\n",
       "    </tr>\n",
       "    <tr>\n",
       "      <th>91</th>\n",
       "      <td>frames\\frame_0092.jpg</td>\n",
       "      <td>230.462405</td>\n",
       "      <td>230.046940</td>\n",
       "      <td>230.497027</td>\n",
       "      <td>notebook</td>\n",
       "    </tr>\n",
       "    <tr>\n",
       "      <th>274</th>\n",
       "      <td>frames\\frame_0275.jpg</td>\n",
       "      <td>243.495807</td>\n",
       "      <td>242.536293</td>\n",
       "      <td>241.133168</td>\n",
       "      <td>notebook</td>\n",
       "    </tr>\n",
       "    <tr>\n",
       "      <th>264</th>\n",
       "      <td>frames\\frame_0265.jpg</td>\n",
       "      <td>243.797096</td>\n",
       "      <td>242.944306</td>\n",
       "      <td>241.363533</td>\n",
       "      <td>notebook</td>\n",
       "    </tr>\n",
       "    <tr>\n",
       "      <th>0</th>\n",
       "      <td>frames\\frame_0001.jpg</td>\n",
       "      <td>88.659175</td>\n",
       "      <td>67.456202</td>\n",
       "      <td>60.424978</td>\n",
       "      <td>office hour</td>\n",
       "    </tr>\n",
       "    <tr>\n",
       "      <th>93</th>\n",
       "      <td>frames\\frame_0094.jpg</td>\n",
       "      <td>230.418442</td>\n",
       "      <td>230.041072</td>\n",
       "      <td>230.527708</td>\n",
       "      <td>notebook</td>\n",
       "    </tr>\n",
       "    <tr>\n",
       "      <th>179</th>\n",
       "      <td>frames\\frame_0180.jpg</td>\n",
       "      <td>233.200673</td>\n",
       "      <td>232.448012</td>\n",
       "      <td>230.221354</td>\n",
       "      <td>notebook</td>\n",
       "    </tr>\n",
       "    <tr>\n",
       "      <th>189</th>\n",
       "      <td>frames\\frame_0190.jpg</td>\n",
       "      <td>233.116076</td>\n",
       "      <td>232.355187</td>\n",
       "      <td>230.101923</td>\n",
       "      <td>notebook</td>\n",
       "    </tr>\n",
       "    <tr>\n",
       "      <th>144</th>\n",
       "      <td>frames\\frame_0145.jpg</td>\n",
       "      <td>230.526888</td>\n",
       "      <td>229.600955</td>\n",
       "      <td>227.319214</td>\n",
       "      <td>notebook</td>\n",
       "    </tr>\n",
       "    <tr>\n",
       "      <th>88</th>\n",
       "      <td>frames\\frame_0089.jpg</td>\n",
       "      <td>230.826745</td>\n",
       "      <td>230.028034</td>\n",
       "      <td>230.582053</td>\n",
       "      <td>notebook</td>\n",
       "    </tr>\n",
       "    <tr>\n",
       "      <th>298</th>\n",
       "      <td>frames\\frame_0299.jpg</td>\n",
       "      <td>89.306185</td>\n",
       "      <td>70.066285</td>\n",
       "      <td>62.480816</td>\n",
       "      <td>office hour</td>\n",
       "    </tr>\n",
       "    <tr>\n",
       "      <th>159</th>\n",
       "      <td>frames\\frame_0160.jpg</td>\n",
       "      <td>229.865751</td>\n",
       "      <td>228.984874</td>\n",
       "      <td>226.680786</td>\n",
       "      <td>notebook</td>\n",
       "    </tr>\n",
       "    <tr>\n",
       "      <th>317</th>\n",
       "      <td>frames\\frame_0318.jpg</td>\n",
       "      <td>227.335317</td>\n",
       "      <td>67.101398</td>\n",
       "      <td>48.556484</td>\n",
       "      <td>notebook</td>\n",
       "    </tr>\n",
       "    <tr>\n",
       "      <th>220</th>\n",
       "      <td>frames\\frame_0221.jpg</td>\n",
       "      <td>244.376549</td>\n",
       "      <td>243.676888</td>\n",
       "      <td>241.910747</td>\n",
       "      <td>notebook</td>\n",
       "    </tr>\n",
       "    <tr>\n",
       "      <th>157</th>\n",
       "      <td>frames\\frame_0158.jpg</td>\n",
       "      <td>229.913984</td>\n",
       "      <td>229.042569</td>\n",
       "      <td>226.666263</td>\n",
       "      <td>notebook</td>\n",
       "    </tr>\n",
       "    <tr>\n",
       "      <th>241</th>\n",
       "      <td>frames\\frame_0242.jpg</td>\n",
       "      <td>244.172700</td>\n",
       "      <td>243.404648</td>\n",
       "      <td>241.769227</td>\n",
       "      <td>notebook</td>\n",
       "    </tr>\n",
       "  </tbody>\n",
       "</table>\n",
       "</div>"
      ],
      "text/plain": [
       "                     frame           r           g           b        scene\n",
       "80   frames\\frame_0081.jpg  230.721385  229.915091  230.483030     notebook\n",
       "18   frames\\frame_0019.jpg   88.007270   67.002426   59.679549  office hour\n",
       "305  frames\\frame_0306.jpg   89.403867   70.149223   62.839010  office hour\n",
       "21   frames\\frame_0022.jpg   87.795200   66.529692   59.443464  office hour\n",
       "153  frames\\frame_0154.jpg  230.078668  229.208051  226.855508     notebook\n",
       "91   frames\\frame_0092.jpg  230.462405  230.046940  230.497027     notebook\n",
       "274  frames\\frame_0275.jpg  243.495807  242.536293  241.133168     notebook\n",
       "264  frames\\frame_0265.jpg  243.797096  242.944306  241.363533     notebook\n",
       "0    frames\\frame_0001.jpg   88.659175   67.456202   60.424978  office hour\n",
       "93   frames\\frame_0094.jpg  230.418442  230.041072  230.527708     notebook\n",
       "179  frames\\frame_0180.jpg  233.200673  232.448012  230.221354     notebook\n",
       "189  frames\\frame_0190.jpg  233.116076  232.355187  230.101923     notebook\n",
       "144  frames\\frame_0145.jpg  230.526888  229.600955  227.319214     notebook\n",
       "88   frames\\frame_0089.jpg  230.826745  230.028034  230.582053     notebook\n",
       "298  frames\\frame_0299.jpg   89.306185   70.066285   62.480816  office hour\n",
       "159  frames\\frame_0160.jpg  229.865751  228.984874  226.680786     notebook\n",
       "317  frames\\frame_0318.jpg  227.335317   67.101398   48.556484     notebook\n",
       "220  frames\\frame_0221.jpg  244.376549  243.676888  241.910747     notebook\n",
       "157  frames\\frame_0158.jpg  229.913984  229.042569  226.666263     notebook\n",
       "241  frames\\frame_0242.jpg  244.172700  243.404648  241.769227     notebook"
      ]
     },
     "execution_count": 29,
     "metadata": {},
     "output_type": "execute_result"
    }
   ],
   "source": [
    "# The following cell runs your `classifyFrame` classifier on every frame and adds a new column `scene`:\n",
    "df[\"scene\"] = df.apply(lambda row: classifyFrame(row.r, row.g, row.b), axis=1)\n",
    "df.sample(20)"
   ]
  },
  {
   "attachments": {},
   "cell_type": "markdown",
   "metadata": {},
   "source": [
    "### Observing Your Results\n",
    "\n",
    "In the next four cells, we display a frame and you'll run code to check what your classifier classified the frame as being!  Make sure to run the code for each frame.\n",
    "- If your classier is off, you will need to update your `classifyFrame` function and re-run both the `classifyFrame` cella and the cell at the top of this section to generate a enw **scene** classification for each image.\n",
    "- It may take several attempts to get this correct, building an AI can be difficult!"
   ]
  },
  {
   "attachments": {},
   "cell_type": "markdown",
   "metadata": {},
   "source": [
    "### Frame #0001: Office Hours"
   ]
  },
  {
   "cell_type": "code",
   "execution_count": 30,
   "metadata": {},
   "outputs": [
    {
     "data": {
      "text/html": [
       "<div>\n",
       "<style scoped>\n",
       "    .dataframe tbody tr th:only-of-type {\n",
       "        vertical-align: middle;\n",
       "    }\n",
       "\n",
       "    .dataframe tbody tr th {\n",
       "        vertical-align: top;\n",
       "    }\n",
       "\n",
       "    .dataframe thead th {\n",
       "        text-align: right;\n",
       "    }\n",
       "</style>\n",
       "<table border=\"1\" class=\"dataframe\">\n",
       "  <thead>\n",
       "    <tr style=\"text-align: right;\">\n",
       "      <th></th>\n",
       "      <th>frame</th>\n",
       "      <th>r</th>\n",
       "      <th>g</th>\n",
       "      <th>b</th>\n",
       "      <th>scene</th>\n",
       "    </tr>\n",
       "  </thead>\n",
       "  <tbody>\n",
       "    <tr>\n",
       "      <th>0</th>\n",
       "      <td>frames\\frame_0001.jpg</td>\n",
       "      <td>88.659175</td>\n",
       "      <td>67.456202</td>\n",
       "      <td>60.424978</td>\n",
       "      <td>office hour</td>\n",
       "    </tr>\n",
       "  </tbody>\n",
       "</table>\n",
       "</div>"
      ],
      "text/plain": [
       "                   frame          r          g          b        scene\n",
       "0  frames\\frame_0001.jpg  88.659175  67.456202  60.424978  office hour"
      ]
     },
     "execution_count": 30,
     "metadata": {},
     "output_type": "execute_result"
    }
   ],
   "source": [
    "df[ df.frame.str.endswith(\"0001.jpg\") ]"
   ]
  },
  {
   "attachments": {},
   "cell_type": "markdown",
   "metadata": {},
   "source": [
    "![Frame 0001](frames/frame_0001.jpg)"
   ]
  },
  {
   "attachments": {},
   "cell_type": "markdown",
   "metadata": {},
   "source": [
    "### Frame #0081: Notebook"
   ]
  },
  {
   "cell_type": "code",
   "execution_count": 31,
   "metadata": {},
   "outputs": [
    {
     "data": {
      "text/html": [
       "<div>\n",
       "<style scoped>\n",
       "    .dataframe tbody tr th:only-of-type {\n",
       "        vertical-align: middle;\n",
       "    }\n",
       "\n",
       "    .dataframe tbody tr th {\n",
       "        vertical-align: top;\n",
       "    }\n",
       "\n",
       "    .dataframe thead th {\n",
       "        text-align: right;\n",
       "    }\n",
       "</style>\n",
       "<table border=\"1\" class=\"dataframe\">\n",
       "  <thead>\n",
       "    <tr style=\"text-align: right;\">\n",
       "      <th></th>\n",
       "      <th>frame</th>\n",
       "      <th>r</th>\n",
       "      <th>g</th>\n",
       "      <th>b</th>\n",
       "      <th>scene</th>\n",
       "    </tr>\n",
       "  </thead>\n",
       "  <tbody>\n",
       "    <tr>\n",
       "      <th>80</th>\n",
       "      <td>frames\\frame_0081.jpg</td>\n",
       "      <td>230.721385</td>\n",
       "      <td>229.915091</td>\n",
       "      <td>230.48303</td>\n",
       "      <td>notebook</td>\n",
       "    </tr>\n",
       "  </tbody>\n",
       "</table>\n",
       "</div>"
      ],
      "text/plain": [
       "                    frame           r           g          b     scene\n",
       "80  frames\\frame_0081.jpg  230.721385  229.915091  230.48303  notebook"
      ]
     },
     "execution_count": 31,
     "metadata": {},
     "output_type": "execute_result"
    }
   ],
   "source": [
    "df[ df.frame.str.endswith(\"0081.jpg\") ]"
   ]
  },
  {
   "attachments": {},
   "cell_type": "markdown",
   "metadata": {},
   "source": [
    "![Frame 0001](frames/frame_0081.jpg)"
   ]
  },
  {
   "attachments": {},
   "cell_type": "markdown",
   "metadata": {},
   "source": [
    "### Frame #0191: Notebook"
   ]
  },
  {
   "cell_type": "code",
   "execution_count": 32,
   "metadata": {},
   "outputs": [
    {
     "data": {
      "text/html": [
       "<div>\n",
       "<style scoped>\n",
       "    .dataframe tbody tr th:only-of-type {\n",
       "        vertical-align: middle;\n",
       "    }\n",
       "\n",
       "    .dataframe tbody tr th {\n",
       "        vertical-align: top;\n",
       "    }\n",
       "\n",
       "    .dataframe thead th {\n",
       "        text-align: right;\n",
       "    }\n",
       "</style>\n",
       "<table border=\"1\" class=\"dataframe\">\n",
       "  <thead>\n",
       "    <tr style=\"text-align: right;\">\n",
       "      <th></th>\n",
       "      <th>frame</th>\n",
       "      <th>r</th>\n",
       "      <th>g</th>\n",
       "      <th>b</th>\n",
       "      <th>scene</th>\n",
       "    </tr>\n",
       "  </thead>\n",
       "  <tbody>\n",
       "    <tr>\n",
       "      <th>190</th>\n",
       "      <td>frames\\frame_0191.jpg</td>\n",
       "      <td>233.117088</td>\n",
       "      <td>232.354644</td>\n",
       "      <td>230.103359</td>\n",
       "      <td>notebook</td>\n",
       "    </tr>\n",
       "  </tbody>\n",
       "</table>\n",
       "</div>"
      ],
      "text/plain": [
       "                     frame           r           g           b     scene\n",
       "190  frames\\frame_0191.jpg  233.117088  232.354644  230.103359  notebook"
      ]
     },
     "execution_count": 32,
     "metadata": {},
     "output_type": "execute_result"
    }
   ],
   "source": [
    "df[ df.frame.str.endswith(\"0191.jpg\") ]"
   ]
  },
  {
   "attachments": {},
   "cell_type": "markdown",
   "metadata": {},
   "source": [
    "![Frame 0001](frames/frame_0191.jpg)"
   ]
  },
  {
   "attachments": {},
   "cell_type": "markdown",
   "metadata": {},
   "source": [
    "### Frame #0306: Office Hours"
   ]
  },
  {
   "cell_type": "code",
   "execution_count": 33,
   "metadata": {},
   "outputs": [
    {
     "data": {
      "text/html": [
       "<div>\n",
       "<style scoped>\n",
       "    .dataframe tbody tr th:only-of-type {\n",
       "        vertical-align: middle;\n",
       "    }\n",
       "\n",
       "    .dataframe tbody tr th {\n",
       "        vertical-align: top;\n",
       "    }\n",
       "\n",
       "    .dataframe thead th {\n",
       "        text-align: right;\n",
       "    }\n",
       "</style>\n",
       "<table border=\"1\" class=\"dataframe\">\n",
       "  <thead>\n",
       "    <tr style=\"text-align: right;\">\n",
       "      <th></th>\n",
       "      <th>frame</th>\n",
       "      <th>r</th>\n",
       "      <th>g</th>\n",
       "      <th>b</th>\n",
       "      <th>scene</th>\n",
       "    </tr>\n",
       "  </thead>\n",
       "  <tbody>\n",
       "    <tr>\n",
       "      <th>305</th>\n",
       "      <td>frames\\frame_0306.jpg</td>\n",
       "      <td>89.403867</td>\n",
       "      <td>70.149223</td>\n",
       "      <td>62.83901</td>\n",
       "      <td>office hour</td>\n",
       "    </tr>\n",
       "  </tbody>\n",
       "</table>\n",
       "</div>"
      ],
      "text/plain": [
       "                     frame          r          g         b        scene\n",
       "305  frames\\frame_0306.jpg  89.403867  70.149223  62.83901  office hour"
      ]
     },
     "execution_count": 33,
     "metadata": {},
     "output_type": "execute_result"
    }
   ],
   "source": [
    "df[ df.frame.str.endswith(\"0306.jpg\") ]"
   ]
  },
  {
   "attachments": {},
   "cell_type": "markdown",
   "metadata": {},
   "source": [
    "![Frame 0001](frames/frame_0306.jpg)"
   ]
  },
  {
   "cell_type": "markdown",
   "metadata": {},
   "source": [
    "### Run the \"Part 4\" Test Case:\n"
   ]
  },
  {
   "cell_type": "code",
   "execution_count": 34,
   "metadata": {},
   "outputs": [
    {
     "name": "stdout",
     "output_type": "stream",
     "text": [
      "🎉 All Tests Passed! 🎉\n"
     ]
    }
   ],
   "source": [
    "### TEST CASE for Part 4: Using Your Classifier\n",
    "tada = \"\\N{PARTY POPPER}\"\n",
    "assert(\"scene\" in df)\n",
    "assert(len(df[ df.scene == \"notebook\" ]) > 100), \"Your classifier function misclassified lots of frames. Take another look at how you are classifying `office hour` and `notebook` frames.\"\n",
    "assert(len(df[ df.scene == \"office hour\" ]) > 75), \"Your classifier function misclassified lots of frames. Take another look at how you are classifying `office hour` and `notebook` frames.\"\n",
    "assert(len(df[ df.scene == \"notebook\" ]) + len(df[ df.scene == \"office hour\" ]) == len(df)), \"Your classifier function misclassified lots of frames. Take another look at how you are classifying `office hour` and `notebook` frames.\"\n",
    "assert( len( df[ (df.frame.str.endswith(\"0001.jpg\")) & (df.scene == \"office hour\") ] ) == 1 ), \"Your classifier function misclassified an 'office hours' frame. Take another look at how you are classifying `office hour` and `notebook` frames.\"\n",
    "assert( len( df[ (df.frame.str.endswith(\"0306.jpg\")) & (df.scene == \"office hour\") ] ) == 1 ), \"Your classifier function misclassified an 'office hours' frame. Take another look at how you are classifying `office hour` and `notebook` frames.\"\n",
    "assert( len( df[ (df.frame.str.endswith(\"0081.jpg\")) & (df.scene == \"notebook\") ] ) == 1 ), \"Your classifier function misclassified a 'notebook' frame. Take another look at how you are classifying `office hour` and `notebook` frames.\"\n",
    "assert( len( df[ (df.frame.str.endswith(\"0191.jpg\")) & (df.scene == \"notebook\") ] ) == 1 ), \"Your classifier function misclassified a 'notebook' frame. Take another look at how you are classifying `office hour` and `notebook` frames.\"\n",
    "print(f\"{tada} All Tests Passed! {tada}\")"
   ]
  },
  {
   "cell_type": "markdown",
   "metadata": {},
   "source": [
    "<hr style=\"color: #DD3403;\">"
   ]
  },
  {
   "cell_type": "markdown",
   "metadata": {},
   "source": [
    "## Part 5: Improve Your Classifier\n",
    "\n",
    "There are some frames that are neither the `office hour` nor the `notebook`.  How did your classifier do...?\n",
    "\n",
    "Run the following cells to see how you classified some unexpected frames:\n",
    "\n",
    "### Frame #0320: Data Science Duo Logo???\n",
    "\n",
    "What did you classify the DUO logo as?  It's neither one, but we don't have that option!"
   ]
  },
  {
   "cell_type": "code",
   "execution_count": 35,
   "metadata": {},
   "outputs": [
    {
     "data": {
      "text/html": [
       "<div>\n",
       "<style scoped>\n",
       "    .dataframe tbody tr th:only-of-type {\n",
       "        vertical-align: middle;\n",
       "    }\n",
       "\n",
       "    .dataframe tbody tr th {\n",
       "        vertical-align: top;\n",
       "    }\n",
       "\n",
       "    .dataframe thead th {\n",
       "        text-align: right;\n",
       "    }\n",
       "</style>\n",
       "<table border=\"1\" class=\"dataframe\">\n",
       "  <thead>\n",
       "    <tr style=\"text-align: right;\">\n",
       "      <th></th>\n",
       "      <th>frame</th>\n",
       "      <th>r</th>\n",
       "      <th>g</th>\n",
       "      <th>b</th>\n",
       "      <th>scene</th>\n",
       "    </tr>\n",
       "  </thead>\n",
       "  <tbody>\n",
       "    <tr>\n",
       "      <th>319</th>\n",
       "      <td>frames\\frame_0320.jpg</td>\n",
       "      <td>221.227565</td>\n",
       "      <td>71.838433</td>\n",
       "      <td>54.457305</td>\n",
       "      <td>notebook</td>\n",
       "    </tr>\n",
       "  </tbody>\n",
       "</table>\n",
       "</div>"
      ],
      "text/plain": [
       "                     frame           r          g          b     scene\n",
       "319  frames\\frame_0320.jpg  221.227565  71.838433  54.457305  notebook"
      ]
     },
     "execution_count": 35,
     "metadata": {},
     "output_type": "execute_result"
    }
   ],
   "source": [
    "df[ df.frame.str.endswith(\"0320.jpg\") ]"
   ]
  },
  {
   "attachments": {},
   "cell_type": "markdown",
   "metadata": {},
   "source": [
    "![Frame 0001](frames/frame_0320.jpg)"
   ]
  },
  {
   "attachments": {},
   "cell_type": "markdown",
   "metadata": {},
   "source": [
    "### Frame #328: Video Credits\n",
    "\n",
    "What did you classify the video credits as?  It's another tricky one!\n"
   ]
  },
  {
   "cell_type": "code",
   "execution_count": 36,
   "metadata": {},
   "outputs": [
    {
     "data": {
      "text/html": [
       "<div>\n",
       "<style scoped>\n",
       "    .dataframe tbody tr th:only-of-type {\n",
       "        vertical-align: middle;\n",
       "    }\n",
       "\n",
       "    .dataframe tbody tr th {\n",
       "        vertical-align: top;\n",
       "    }\n",
       "\n",
       "    .dataframe thead th {\n",
       "        text-align: right;\n",
       "    }\n",
       "</style>\n",
       "<table border=\"1\" class=\"dataframe\">\n",
       "  <thead>\n",
       "    <tr style=\"text-align: right;\">\n",
       "      <th></th>\n",
       "      <th>frame</th>\n",
       "      <th>r</th>\n",
       "      <th>g</th>\n",
       "      <th>b</th>\n",
       "      <th>scene</th>\n",
       "    </tr>\n",
       "  </thead>\n",
       "  <tbody>\n",
       "    <tr>\n",
       "      <th>327</th>\n",
       "      <td>frames\\frame_0328.jpg</td>\n",
       "      <td>7.480234</td>\n",
       "      <td>7.481519</td>\n",
       "      <td>7.487826</td>\n",
       "      <td>office hour</td>\n",
       "    </tr>\n",
       "  </tbody>\n",
       "</table>\n",
       "</div>"
      ],
      "text/plain": [
       "                     frame         r         g         b        scene\n",
       "327  frames\\frame_0328.jpg  7.480234  7.481519  7.487826  office hour"
      ]
     },
     "execution_count": 36,
     "metadata": {},
     "output_type": "execute_result"
    }
   ],
   "source": [
    "df[ df.frame.str.endswith(\"0328.jpg\") ]"
   ]
  },
  {
   "attachments": {},
   "cell_type": "markdown",
   "metadata": {},
   "source": [
    "![Frame 0328](frames/frame_0328.jpg)"
   ]
  },
  {
   "cell_type": "markdown",
   "metadata": {},
   "source": [
    "### Part 5.1: Building a Second Classifier\n",
    "\n",
    "Create a second classifier -- `classifyFrame2` -- that returns either `\"notebook\"`, `\"office hour\"` or `\"other\"`.  Your classifier should correctly handle the \"Data Science Duo\" (ex: #0320) frames and the \"Credit\" frames (ex: #0328).\n",
    "- Think of what might **uniquely identify these two special frames** that is different than the office hour or notebook scenes.  The average color values displayed with the images above may help you with some ideas.\n",
    "- You must still correctly classify `\"notebook\"` and `\"office hour\"` frames, in addition to classifying `\"other\"` frames\n",
    "- *Hint: It may be helpful to first identify if it's an `\"other\"` since these scenes may be most distinctive.*"
   ]
  },
  {
   "cell_type": "code",
   "execution_count": 37,
   "metadata": {},
   "outputs": [],
   "source": [
    "def classifyFrame2(r, g, b):\n",
    "  # Return either \"office hour\", \"notebook\", or \"other\" based on the values of `r`, `g`, and `b`.\n",
    "  # orange dou logo\n",
    "  if r > 200 and g < 100 and b < 100:\n",
    "      return 'other'\n",
    "  elif r < 10 and g < 10 and b < 10:\n",
    "      return 'other'\n",
    "  return classifyFrame(r, g, b)"
   ]
  },
  {
   "attachments": {},
   "cell_type": "markdown",
   "metadata": {},
   "source": [
    "### Part 5.2: Apply your `classifyFrame2` function\n",
    "\n",
    "Using `classifyFrame2`, this code replaces the value in the column `scene` with your `classifyFrame2` classification function.  The output of this cell shows the last frames of the video, which we expect many of the results to be `\"other\"`:"
   ]
  },
  {
   "cell_type": "code",
   "execution_count": 38,
   "metadata": {},
   "outputs": [
    {
     "data": {
      "text/html": [
       "<div>\n",
       "<style scoped>\n",
       "    .dataframe tbody tr th:only-of-type {\n",
       "        vertical-align: middle;\n",
       "    }\n",
       "\n",
       "    .dataframe tbody tr th {\n",
       "        vertical-align: top;\n",
       "    }\n",
       "\n",
       "    .dataframe thead th {\n",
       "        text-align: right;\n",
       "    }\n",
       "</style>\n",
       "<table border=\"1\" class=\"dataframe\">\n",
       "  <thead>\n",
       "    <tr style=\"text-align: right;\">\n",
       "      <th></th>\n",
       "      <th>frame</th>\n",
       "      <th>r</th>\n",
       "      <th>g</th>\n",
       "      <th>b</th>\n",
       "      <th>scene</th>\n",
       "    </tr>\n",
       "  </thead>\n",
       "  <tbody>\n",
       "    <tr>\n",
       "      <th>310</th>\n",
       "      <td>frames\\frame_0311.jpg</td>\n",
       "      <td>89.052721</td>\n",
       "      <td>70.084679</td>\n",
       "      <td>62.528559</td>\n",
       "      <td>office hour</td>\n",
       "    </tr>\n",
       "    <tr>\n",
       "      <th>311</th>\n",
       "      <td>frames\\frame_0312.jpg</td>\n",
       "      <td>89.577539</td>\n",
       "      <td>70.261745</td>\n",
       "      <td>62.894870</td>\n",
       "      <td>office hour</td>\n",
       "    </tr>\n",
       "    <tr>\n",
       "      <th>312</th>\n",
       "      <td>frames\\frame_0313.jpg</td>\n",
       "      <td>89.365169</td>\n",
       "      <td>70.192526</td>\n",
       "      <td>62.526467</td>\n",
       "      <td>office hour</td>\n",
       "    </tr>\n",
       "    <tr>\n",
       "      <th>313</th>\n",
       "      <td>frames\\frame_0314.jpg</td>\n",
       "      <td>89.240360</td>\n",
       "      <td>70.183095</td>\n",
       "      <td>62.777127</td>\n",
       "      <td>office hour</td>\n",
       "    </tr>\n",
       "    <tr>\n",
       "      <th>314</th>\n",
       "      <td>frames\\frame_0315.jpg</td>\n",
       "      <td>89.053277</td>\n",
       "      <td>70.115230</td>\n",
       "      <td>62.639093</td>\n",
       "      <td>office hour</td>\n",
       "    </tr>\n",
       "    <tr>\n",
       "      <th>315</th>\n",
       "      <td>frames\\frame_0316.jpg</td>\n",
       "      <td>227.706259</td>\n",
       "      <td>67.024722</td>\n",
       "      <td>48.608728</td>\n",
       "      <td>other</td>\n",
       "    </tr>\n",
       "    <tr>\n",
       "      <th>316</th>\n",
       "      <td>frames\\frame_0317.jpg</td>\n",
       "      <td>233.539870</td>\n",
       "      <td>66.995486</td>\n",
       "      <td>47.766740</td>\n",
       "      <td>other</td>\n",
       "    </tr>\n",
       "    <tr>\n",
       "      <th>317</th>\n",
       "      <td>frames\\frame_0318.jpg</td>\n",
       "      <td>227.335317</td>\n",
       "      <td>67.101398</td>\n",
       "      <td>48.556484</td>\n",
       "      <td>other</td>\n",
       "    </tr>\n",
       "    <tr>\n",
       "      <th>318</th>\n",
       "      <td>frames\\frame_0319.jpg</td>\n",
       "      <td>221.847739</td>\n",
       "      <td>72.007214</td>\n",
       "      <td>54.584670</td>\n",
       "      <td>other</td>\n",
       "    </tr>\n",
       "    <tr>\n",
       "      <th>319</th>\n",
       "      <td>frames\\frame_0320.jpg</td>\n",
       "      <td>221.227565</td>\n",
       "      <td>71.838433</td>\n",
       "      <td>54.457305</td>\n",
       "      <td>other</td>\n",
       "    </tr>\n",
       "    <tr>\n",
       "      <th>320</th>\n",
       "      <td>frames\\frame_0321.jpg</td>\n",
       "      <td>218.887899</td>\n",
       "      <td>80.898411</td>\n",
       "      <td>63.118472</td>\n",
       "      <td>other</td>\n",
       "    </tr>\n",
       "    <tr>\n",
       "      <th>321</th>\n",
       "      <td>frames\\frame_0322.jpg</td>\n",
       "      <td>200.769965</td>\n",
       "      <td>41.149089</td>\n",
       "      <td>18.975074</td>\n",
       "      <td>other</td>\n",
       "    </tr>\n",
       "    <tr>\n",
       "      <th>322</th>\n",
       "      <td>frames\\frame_0323.jpg</td>\n",
       "      <td>201.348303</td>\n",
       "      <td>42.190686</td>\n",
       "      <td>19.636580</td>\n",
       "      <td>other</td>\n",
       "    </tr>\n",
       "    <tr>\n",
       "      <th>323</th>\n",
       "      <td>frames\\frame_0324.jpg</td>\n",
       "      <td>201.755673</td>\n",
       "      <td>42.935651</td>\n",
       "      <td>20.674631</td>\n",
       "      <td>other</td>\n",
       "    </tr>\n",
       "    <tr>\n",
       "      <th>324</th>\n",
       "      <td>frames\\frame_0325.jpg</td>\n",
       "      <td>0.025247</td>\n",
       "      <td>0.030256</td>\n",
       "      <td>0.038095</td>\n",
       "      <td>other</td>\n",
       "    </tr>\n",
       "    <tr>\n",
       "      <th>325</th>\n",
       "      <td>frames\\frame_0326.jpg</td>\n",
       "      <td>7.470391</td>\n",
       "      <td>7.473355</td>\n",
       "      <td>7.479188</td>\n",
       "      <td>other</td>\n",
       "    </tr>\n",
       "    <tr>\n",
       "      <th>326</th>\n",
       "      <td>frames\\frame_0327.jpg</td>\n",
       "      <td>7.469779</td>\n",
       "      <td>7.472743</td>\n",
       "      <td>7.478576</td>\n",
       "      <td>other</td>\n",
       "    </tr>\n",
       "    <tr>\n",
       "      <th>327</th>\n",
       "      <td>frames\\frame_0328.jpg</td>\n",
       "      <td>7.480234</td>\n",
       "      <td>7.481519</td>\n",
       "      <td>7.487826</td>\n",
       "      <td>other</td>\n",
       "    </tr>\n",
       "    <tr>\n",
       "      <th>328</th>\n",
       "      <td>frames\\frame_0329.jpg</td>\n",
       "      <td>7.480004</td>\n",
       "      <td>7.481289</td>\n",
       "      <td>7.487595</td>\n",
       "      <td>other</td>\n",
       "    </tr>\n",
       "    <tr>\n",
       "      <th>329</th>\n",
       "      <td>frames\\frame_0330.jpg</td>\n",
       "      <td>4.657478</td>\n",
       "      <td>4.658776</td>\n",
       "      <td>4.665082</td>\n",
       "      <td>other</td>\n",
       "    </tr>\n",
       "  </tbody>\n",
       "</table>\n",
       "</div>"
      ],
      "text/plain": [
       "                     frame           r          g          b        scene\n",
       "310  frames\\frame_0311.jpg   89.052721  70.084679  62.528559  office hour\n",
       "311  frames\\frame_0312.jpg   89.577539  70.261745  62.894870  office hour\n",
       "312  frames\\frame_0313.jpg   89.365169  70.192526  62.526467  office hour\n",
       "313  frames\\frame_0314.jpg   89.240360  70.183095  62.777127  office hour\n",
       "314  frames\\frame_0315.jpg   89.053277  70.115230  62.639093  office hour\n",
       "315  frames\\frame_0316.jpg  227.706259  67.024722  48.608728        other\n",
       "316  frames\\frame_0317.jpg  233.539870  66.995486  47.766740        other\n",
       "317  frames\\frame_0318.jpg  227.335317  67.101398  48.556484        other\n",
       "318  frames\\frame_0319.jpg  221.847739  72.007214  54.584670        other\n",
       "319  frames\\frame_0320.jpg  221.227565  71.838433  54.457305        other\n",
       "320  frames\\frame_0321.jpg  218.887899  80.898411  63.118472        other\n",
       "321  frames\\frame_0322.jpg  200.769965  41.149089  18.975074        other\n",
       "322  frames\\frame_0323.jpg  201.348303  42.190686  19.636580        other\n",
       "323  frames\\frame_0324.jpg  201.755673  42.935651  20.674631        other\n",
       "324  frames\\frame_0325.jpg    0.025247   0.030256   0.038095        other\n",
       "325  frames\\frame_0326.jpg    7.470391   7.473355   7.479188        other\n",
       "326  frames\\frame_0327.jpg    7.469779   7.472743   7.478576        other\n",
       "327  frames\\frame_0328.jpg    7.480234   7.481519   7.487826        other\n",
       "328  frames\\frame_0329.jpg    7.480004   7.481289   7.487595        other\n",
       "329  frames\\frame_0330.jpg    4.657478   4.658776   4.665082        other"
      ]
     },
     "execution_count": 38,
     "metadata": {},
     "output_type": "execute_result"
    }
   ],
   "source": [
    "df[\"scene\"] = df.apply(lambda row: classifyFrame2(row.r, row.g, row.b), axis=1)\n",
    "df.tail(20)"
   ]
  },
  {
   "attachments": {},
   "cell_type": "markdown",
   "metadata": {},
   "source": [
    "### Test Cases\n",
    "\n",
    "You can re-run the sample image cells earlier in this notebook after running the code in Part 4.2 since we updated the DataFrame using your new classifier.  Remember to update `classifyFrame2` to update your new classifier (not the original one)."
   ]
  },
  {
   "cell_type": "code",
   "execution_count": 39,
   "metadata": {},
   "outputs": [
    {
     "name": "stdout",
     "output_type": "stream",
     "text": [
      "🎉 All Tests Passed! 🎉\n"
     ]
    }
   ],
   "source": [
    "### TEST CASE for Part 5: Update Your Classifier to Account with an Other Category\n",
    "tada = \"\\N{PARTY POPPER}\"\n",
    "assert(\"scene\" in df)\n",
    "assert(len(df[ df.scene == \"notebook\" ]) > 100), \"There should be many frames classified as 'notebook'. There are frames being misclassified.\"\n",
    "assert(len(df[ df.scene == \"office hour\" ]) > 75), \"You should have more frames classified as 'office hour'. There are frames being misclassified.\"\n",
    "assert(len(df[ df.scene == \"other\" ]) >= 15), \"Most of the last 20 frames should be classified as 'other'. Try adjusting the bounds of your classification parameters.\"\n",
    "assert(len(df[ df.scene == \"other\" ]) <= 18)   # Okay to classify the intro screens as well, but not any others.\n",
    "assert(len(df[ df.scene == \"notebook\" ]) + len(df[ df.scene == \"office hour\" ]) + len(df[ df.scene == \"other\" ]) == len(df))\n",
    "assert( len( df[ (df.frame.str.endswith(\"0001.jpg\")) & (df.scene == \"office hour\") ] ) == 1 ), \"Your classifier function misclassified an 'office hours' frame. Take another look at how you are classifying the four frame categories.\"\n",
    "assert( len( df[ (df.frame.str.endswith(\"0306.jpg\")) & (df.scene == \"office hour\") ] ) == 1 ), \"Your classifier function misclassified an 'office hours' frame. Take another look at how you are classifying the four frame categories.\"\n",
    "assert( len( df[ (df.frame.str.endswith(\"0081.jpg\")) & (df.scene == \"notebook\") ] ) == 1 ), \"Your classifier function misclassified a 'notebook' frame. Take another look at how you are classifying the four frame categories.\"\n",
    "assert( len( df[ (df.frame.str.endswith(\"0191.jpg\")) & (df.scene == \"notebook\") ] ) == 1 ), \"Your classifier function misclassified a 'notebook' frame. Take another look at how you are classifying the four frame categories.\"\n",
    "assert( len( df[ (df.frame.str.endswith(\"0317.jpg\")) & (df.scene == \"other\") ] ) == 1 ), \"Your classifier function misclassified an 'other' frame. Take another look at how you are classifying the four frame categories.\"\n",
    "assert( len( df[ (df.frame.str.endswith(\"0325.jpg\")) & (df.scene == \"other\") ] ) == 1 ), \"Your classifier function misclassified an 'other' frame. Take another look at how you are classifying the four frame categories.\"\n",
    "assert( len( df[ (df.frame.str.endswith(\"0328.jpg\")) & (df.scene == \"other\") ] ) == 1 ), \"Your classifier function misclassified an 'other' frame. Take another look at how you are classifying the four frame categories.\"\n",
    "print(f\"{tada} All Tests Passed! {tada}\")"
   ]
  },
  {
   "attachments": {},
   "cell_type": "markdown",
   "metadata": {},
   "source": [
    "<hr style=\"color: #DD3403;\">"
   ]
  },
  {
   "cell_type": "markdown",
   "metadata": {},
   "source": [
    "## You Built a Classier! 🎉🎉\n",
    "\n",
    "In this MicroProject, instead of training a model with existing data, you fine-tuned your own classier function.  If you want to nerd out more, feel free to explore using k-means clustering on this data (or any other classification algorithm) -- how does a classical AI algorithm do on this same problem?"
   ]
  },
  {
   "cell_type": "markdown",
   "metadata": {},
   "source": [
    "<hr style=\"color: #DD3403;\">"
   ]
  },
  {
   "attachments": {},
   "cell_type": "markdown",
   "metadata": {},
   "source": [
    "## Submission\n",
    "\n",
    "You're almost done!  All you need to do is to commit your lab to GitHub and run the GitHub Actions Grader:\n",
    "\n",
    "1.  ⚠️ **Make certain to save your work.** ⚠️ To do this, go to **File => Save All**\n",
    "\n",
    "2.  After you have saved, exit this notebook and return to https://discovery.cs.illinois.edu/microproject/video-frame-scene-recognition-model/ and complete the section **\"Commit and Grade Your Notebook\"**.\n",
    "\n",
    "3. If you see a 100% grade result on your GitHub Action, you've completed this MicroProject! 🎉"
   ]
  }
 ],
 "metadata": {
  "kernelspec": {
   "display_name": "Python 3",
   "language": "python",
   "name": "python3"
  },
  "language_info": {
   "codemirror_mode": {
    "name": "ipython",
    "version": 3
   },
   "file_extension": ".py",
   "mimetype": "text/x-python",
   "name": "python",
   "nbconvert_exporter": "python",
   "pygments_lexer": "ipython3",
   "version": "3.13.3"
  }
 },
 "nbformat": 4,
 "nbformat_minor": 2
}
